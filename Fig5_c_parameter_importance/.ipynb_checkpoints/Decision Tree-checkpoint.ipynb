{
 "cells": [
  {
   "cell_type": "code",
   "execution_count": 1,
   "id": "9c8777af-4e68-4956-b282-2c39a3c695fb",
   "metadata": {
    "tags": []
   },
   "outputs": [
    {
     "name": "stdout",
     "output_type": "stream",
     "text": [
      "Current working directory: /Users/sergiocorridore/Post-doc/Mathematical_Model (Python Code)/PK-PD model feature importance_v2\n"
     ]
    }
   ],
   "source": [
    "import os\n",
    "print(\"Current working directory: {0}\".format(os.getcwd()))\n",
    "\n",
    "import pandas as pd\n",
    "import numpy as np\n",
    "\n",
    "import time\n",
    "from datetime import datetime\n",
    "\n",
    "# -- create new folder \n",
    "import os\n",
    "\n",
    "# -- visualisation\n",
    "import matplotlib.pyplot as plt\n",
    "from sklearn.tree import export_graphviz\n",
    "from six import StringIO  \n",
    "from IPython.display import Image  \n",
    "import pydotplus\n",
    "\n",
    "# -- machine-learning\n",
    "from sklearn import tree\n",
    "# tunning\n",
    "from sklearn.model_selection import train_test_split, KFold\n",
    "# metrics\n",
    "from sklearn.metrics import mean_squared_error, r2_score, accuracy_score\n",
    "# Parameters Grid\n",
    "from sklearn.model_selection import ParameterGrid\n",
    "\n",
    "# -- save python object\n",
    "import pickle\n",
    "\n",
    "# -- my functions\n",
    "import utils as ut\n",
    "from perform_an import perform_cv,save_cv_results\n",
    "from perform_an import ComputeSave_preverr\n",
    "from perform_an import perform_lc,save_lc_results"
   ]
  },
  {
   "cell_type": "code",
   "execution_count": 2,
   "id": "8ce9c297-7360-4763-990a-8b51f870d7cc",
   "metadata": {
    "tags": []
   },
   "outputs": [
    {
     "name": "stdout",
     "output_type": "stream",
     "text": [
      "Result Directory 'Results/Results_2023-12-07_15.44.33_DecisionTree' created successfully\n"
     ]
    }
   ],
   "source": [
    "#computing_time: start\n",
    "t_start = time.time()\n",
    "\n",
    "# Create the Results directory\n",
    "Time_res_dir=ut.create_res_fold('DecisionTree')"
   ]
  },
  {
   "cell_type": "code",
   "execution_count": 3,
   "id": "8c9ede8b-4270-41db-81d0-2f30b309ee4b",
   "metadata": {
    "tags": []
   },
   "outputs": [],
   "source": [
    "# Step 0: Read the CSV file from PK-PD model simulations\n",
    "Time_data_dir=\"Results_2023-11-06_01.55.00/\"\n",
    "# Time_data_dir=\"Results_2023-11-30_16.52.46_BERinh/\"\n",
    "# Time_data_dir=\"Results_2023-11-30_17.43.10_HRinh/\"\n",
    "# Time_data_dir=\"Results_2023-11-30_17.45.04_HRBERinh/\"\n",
    "[patient_param_MGMT_M,patient_param_MGMT_P,patient_survcurvAUC_MGMT_M,patient_survcurvAUC_MGMT_P]=ut.PKPDmodel_sim(Time_data_dir)\n",
    "# feature names\n",
    "# feature_names=['pT','pT2','MGMT0','k_MGMT','k_MMR','k_BER','k_DSBO','k_DSBN','k_HR','kf_ATR','k_ATR','kd_pATR','kf_Chk1','k_Chk1','kd_pChk1','Cdc250','k_cdc25','kf_p53','k_p53','kp_ser46','kt_Mdm2','k_apop','tED50','sness']\n",
    "feature_names=['tED50','kp_ser46','kf_p53','sness','k_p53','k_ATR','k_apop','kd_pATR','k_Chk1','k_DSBO','k_DSBN','k_BER','k_HR']\n",
    "feature_names_MGMT_M=['tED50','kp_ser46','kf_p53','sness','k_p53','k_ATR']\n",
    "# feature_names=['tED50','kp_ser46','kf_p53','sness']\n",
    "\n",
    "patientnumb=60000;\n",
    "dataset_MGMT_M=patient_param_MGMT_M[feature_names_MGMT_M].iloc[0:patientnumb];#patient_param_MGMT_M.copy()\n",
    "dataset_MGMT_P=patient_param_MGMT_P[feature_names].iloc[0:patientnumb];#patient_param_MGMT_P.copy()\n",
    "output_MGMT_M=patient_survcurvAUC_MGMT_M.iloc[0:patientnumb];#patient_survcurvAUC_MGMT_M.copy()\n",
    "output_MGMT_P=patient_survcurvAUC_MGMT_P.iloc[0:patientnumb];#patient_survcurvAUC_MGMT_P.copy()\n",
    "\n",
    "# Step 1: Data Splitting\n",
    "X_train_MGMT_M, X_prev_MGMT_M, y_train_MGMT_M, y_prev_MGMT_M = train_test_split(dataset_MGMT_M, output_MGMT_M, test_size=0.2, random_state=42)\n",
    "X_train_MGMT_P, X_prev_MGMT_P, y_train_MGMT_P, y_prev_MGMT_P = train_test_split(dataset_MGMT_P, output_MGMT_P, test_size=0.2, random_state=42)"
   ]
  },
  {
   "cell_type": "code",
   "execution_count": 4,
   "id": "a56cc0f3-600c-4fdd-9773-fe3df48ba369",
   "metadata": {
    "tags": []
   },
   "outputs": [],
   "source": [
    "# Step 2: Building Decision Tree Model\n",
    "# Create Decision Tree classifer object\n",
    "DC_MGMT_M = tree.DecisionTreeRegressor(max_depth=3)\n",
    "DC_MGMT_P = tree.DecisionTreeRegressor()\n",
    "\n",
    "# Train Decision Tree Classifer\n",
    "DC_MGMT_M = DC_MGMT_M.fit(X_train_MGMT_M,y_train_MGMT_M)\n",
    "DC_MGMT_P = DC_MGMT_P.fit(X_train_MGMT_P,y_train_MGMT_P)\n",
    "\n",
    "#Predict the response for test dataset\n",
    "y_pred_MGMT_M = DC_MGMT_M.predict(X_prev_MGMT_M)\n",
    "y_pred_MGMT_P = DC_MGMT_P.predict(X_prev_MGMT_P)\n"
   ]
  },
  {
   "cell_type": "code",
   "execution_count": 5,
   "id": "91b7a290-8b42-4773-b4b5-06011c38b2bd",
   "metadata": {
    "tags": []
   },
   "outputs": [
    {
     "name": "stdout",
     "output_type": "stream",
     "text": [
      "Accuracy MGMT M: 0.417232154225734\n",
      "Accuracy MGMT P: 0.6188515706728033\n"
     ]
    }
   ],
   "source": [
    "# Step 3: Evaluating the Model\n",
    "# Model Accuracy, how often is the classifier correct?\n",
    "print(\"Accuracy MGMT M:\",r2_score(y_prev_MGMT_M, y_pred_MGMT_M))\n",
    "print(\"Accuracy MGMT P:\",r2_score(y_prev_MGMT_P, y_pred_MGMT_P))"
   ]
  },
  {
   "cell_type": "code",
   "execution_count": 7,
   "id": "5ed057b9-b89e-4cc9-aed2-d4901065ff12",
   "metadata": {
    "tags": []
   },
   "outputs": [
    {
     "data": {
      "image/png": "[encoded data removed]",
      "text/plain": [
       "<Figure size 640x480 with 1 Axes>"
      ]
     },
     "metadata": {},
     "output_type": "display_data"
    }
   ],
   "source": [
    "# Step 4: Decision tree visualization\n",
    "tree.plot_tree(DC_MGMT_M)\n",
    "plt.savefig(Time_res_dir+'/Figures/DecisionTree'+'M'+'.png', dpi=300)\n",
    "plt.show()"
   ]
  },
  {
   "cell_type": "code",
   "execution_count": 8,
   "id": "693f2d9f-5990-48cd-82dd-a4c3268999f2",
   "metadata": {
    "tags": []
   },
   "outputs": [
    {
     "data": {
      "text/plain": [
       "<Figure size 640x480 with 0 Axes>"
      ]
     },
     "metadata": {},
     "output_type": "display_data"
    }
   ],
   "source": [
    "dot_data = StringIO()\n",
    "export_graphviz(DC_MGMT_M, out_file=dot_data,  \n",
    "                filled=True, rounded=True,\n",
    "                special_characters=True,feature_names = feature_names_MGMT_M,class_names=['0','1'])\n",
    "graph = pydotplus.graph_from_dot_data(dot_data.getvalue())  \n",
    "graph.write_png('diabetes.png')\n",
    "Image(graph.create_png())\n",
    "# plt.savefig(Time_res_dir+'/Figures/DecisionTree'+'M'+'.png', dpi=300)"
   ]
  },
  {
   "cell_type": "code",
   "execution_count": null,
   "id": "3557fb2c-e656-495b-ab32-55f22cf9ea40",
   "metadata": {},
   "outputs": [],
   "source": []
  }
 ],
 "metadata": {
  "kernelspec": {
   "display_name": "Python 3 (ipykernel)",
   "language": "python",
   "name": "python3"
  },
  "language_info": {
   "codemirror_mode": {
    "name": "ipython",
    "version": 3
   },
   "file_extension": ".py",
   "mimetype": "text/x-python",
   "name": "python",
   "nbconvert_exporter": "python",
   "pygments_lexer": "ipython3",
   "version": "3.11.5"
  }
 },
 "nbformat": 4,
 "nbformat_minor": 5
}
